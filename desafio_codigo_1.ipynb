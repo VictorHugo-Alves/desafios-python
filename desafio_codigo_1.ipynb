{
  "nbformat": 4,
  "nbformat_minor": 0,
  "metadata": {
    "colab": {
      "provenance": [],
      "authorship_tag": "ABX9TyPqkzXaK2eJ6866mc55Hmbs",
      "include_colab_link": true
    },
    "kernelspec": {
      "name": "python3",
      "display_name": "Python 3"
    },
    "language_info": {
      "name": "python"
    }
  },
  "cells": [
    {
      "cell_type": "markdown",
      "metadata": {
        "id": "view-in-github",
        "colab_type": "text"
      },
      "source": [
        "<a href=\"https://colab.research.google.com/github/VictorHugo-Alves/desafios-python/blob/main/desafio_codigo_1.ipynb\" target=\"_parent\"><img src=\"https://colab.research.google.com/assets/colab-badge.svg\" alt=\"Open In Colab\"/></a>"
      ]
    },
    {
      "cell_type": "markdown",
      "source": [
        "#Desafio 1\n",
        "Saruman, o Branco, um grande mago da Terra-média, traiu os bons costumes e se filiou ao lorde do mal, Sauron. Sauron comanda a torre de Minas Morgul,\n",
        "que abriga um dos seus mais temidos servos, o Rei Bruxo de Angmar, um dos Nazgûl (antigos reis humanos que foram corrompidos pelos poderes dos anéis de Sauron).\n",
        "Saruman comanda a torre de Orthanc, onde cria seus servos Uruk-hai, orcs mais terríveis que os convencionais. Para comunicação, eles utilizam as relíquias esféricas chamadas\n",
        "Palantír, que ficam no topo de suas torres. A Terra-média avança cada vez mais em tecnologia, muito impulsionada pelas guerras que a acometem diariamente.\n",
        "Um dos problemas que tem atrapalhado sua população é a Interferência de Comunicação Mágica (ICM). Os estudiosos de Minas Tirith, grande cidadela de Gondor, concluíram que\n",
        "para calcular o ICM para Palantír’s, basta dividir a distância entre os dois Palantír’s, pela soma do diâmetro dos mesmos. Gandalf, o Cinza, chegou a questionar essa conclusão,\n",
        "alegando que ela não fazia muito sentido, mas ele mesmo concluiu que dar sentido às coisas não faz sentido.\n",
        "Saruman e Sauron precisam de uma comunicação estável, pois têm medo que Frodo e seus amigos consigam atrapalhar seus planos, portanto,\n",
        "querem saber quanto de ICM há na comunicação de seus Palantír’s, para que saibam quanto de magia devem empregar na comunicação.\n",
        "\n",
        "#Entrada\n",
        "A entrada é composta por 3 inteiros, N(0 < N < 10000), X e Y(0 < X, Y < 100), que indicam, respectivamente, a distância entre os Palantír, o diâmetro do Palantír de Sauron\n",
        "e o diâmetro do Palantír de Saruman.\n",
        "\n",
        "#Saída\n",
        "Um valor real indicando o ICM da comunicação dos Palatír de Sauron e Saruman, com 2 casas decimais."
      ],
      "metadata": {
        "id": "yuUlOs5OGy-r"
      }
    },
    {
      "cell_type": "code",
      "source": [
        "entrada = input().split() #Lendo a entrada em somente uma linha e separando os valores\n",
        "\n",
        "N = int(entrada[0]) #Determinando o valor de cada variável\n",
        "X = int(entrada[1])\n",
        "Y = int(entrada[2])\n",
        "\n",
        "if 0 < N < 10000 and 0 < X < 100 and 0 < Y < 100: # Verifica se os valores estão dentro dos limites especificados\n",
        "    ICM = N / (X + Y) #Cálcula o valor do ICM\n",
        "    print(f'{ICM:.2f}') #Imprime o valor de ICM com duas casas decimais\n",
        "else:\n",
        "    print('Insira números válidos para N, X e Y') #Caso os valores não estejam dentro dos limites especificados, exibe uma mensagem de erro para o usuário refazer com outros valores."
      ],
      "metadata": {
        "colab": {
          "base_uri": "https://localhost:8080/"
        },
        "id": "9HT5n9sCG1_7",
        "outputId": "b857ac39-d698-4c82-d886-926657b0ae08"
      },
      "execution_count": 1,
      "outputs": [
        {
          "output_type": "stream",
          "name": "stdout",
          "text": [
            "200 3 8\n",
            "18.18\n"
          ]
        }
      ]
    },
    {
      "cell_type": "markdown",
      "source": [
        "#Desafio 2\n",
        "Em 2012, durante a Competição de Cachorros-Quentes do Nathan, o campeão Joey Chestnut bateu um novo recorde mundial ao devorar 68 cachorros-quentes em dez minutos. A competição é realizada pelo restaurante Nathan's Famous Corporation, localizado no Brooklyn, NY, e mundialmente famoso por seus deliciosos cachorros-quentes. No entanto, eles precisam melhorar em matemática para serem listados no Livro de Recordes do Guinness, pois para isso precisam preencher um formulário descrevendo os fatos básicos da competição, incluindo o número médio de cachorros-quentes consumidos pelos participantes. Você pode ajudá-los?\n",
        "\n",
        "Seu desafio é escrever um programa que calcule o número médio de cachorros-quentes consumidos pelos participantes, dados o número total de cachorros-quentes consumidos e o número total de participantes da competição.\n",
        "\n",
        "#Entrada\n",
        "-A entrada consiste de uma única linha que contém dois inteiros P e H (que podem variar entre 1 e 1000), onde:\n",
        "-P é o número total de participantes;\n",
        "-H é o número total de cachorros-quentes.\n",
        "\n",
        "#Saída\n",
        "Seu programa deve produzir uma única linha com um número racional representando o número médio de cachorros-quentes consumidos pelos participantes. O resultado deve ser escrito como um número racional com exatamente dois dígitos após o ponto decimal, arredondado se necessário."
      ],
      "metadata": {
        "id": "JwCsOCxeG9yO"
      }
    },
    {
      "cell_type": "code",
      "source": [
        "entrada = input().split() #Lendo a entrada em somente uma linha e separando os valores\n",
        "\n",
        "P = int(entrada[0]) #Número de participantes\n",
        "CQ = int(entrada[1]) #Número de cachorros-quentes\n",
        "\n",
        "if 0 < P <= 1000 and 0 < CQ <= 1000: #Atribuindo a condição que o número de pessoas e cachorros quentes não pode ser maior que 1000\n",
        "    media = CQ /P #Calculando a média de cachorros quentes por participante\n",
        "    print(f'{media:.2f}') #Imprimindo a média de cachorros quentes por participante\n",
        "else:\n",
        "    print('Insira um número inteiro')"
      ],
      "metadata": {
        "id": "C17nSDjEG_kt"
      },
      "execution_count": null,
      "outputs": []
    },
    {
      "cell_type": "markdown",
      "source": [
        "#Desafio 3\n",
        "Rubens quer calcular e mostrar a quantidade de litros de combustível gastos em uma viagem de carro, sendo que seu carro faz 12 KM/L. Como ele não sabe fazer um programa que o auxilie nessa missão, ele te pede ajuda. Para efetuar o cálculo, deve-se fornecer o tempo gasto em horas na viagem e a velocidade média durante a mesma em km/h. Assim, você conseguirá passar para Rubens qual a distância percorrida e, em seguida, calcular quantos litros serão necessários para a viagem que ele quer fazer. Mostre o valor com 3 casas decimais após o ponto.\n",
        "\n",
        "#Entrada\n",
        "O arquivo de entrada contém dois inteiros. O primeiro é o tempo gasto na viagem em horas e o segundo é a velocidade média durante a mesma em km/h.\n",
        "\n",
        "#Saída\n",
        "Imprima a quantidade de litros necessária para realizar a viagem, com três dígitos após o ponto decimal"
      ],
      "metadata": {
        "id": "POT4y9i6HCQP"
      }
    },
    {
      "cell_type": "code",
      "source": [
        "entrada = input().split() #Lendo a entrada em somente uma linha e separando os valores\n",
        "\n",
        "horas = int(entrada[0]) #Atribuindo o valor das horas\n",
        "velocidade = int(entrada[1]) #Atribuindo o valor da velocidade media\n",
        "\n",
        "distPercorrida = velocidade * horas #Calculando a distância percorrida\n",
        "\n",
        "litrosGasolina = distPercorrida / 12 #Calculando a quantidade de gasolina necessária\n",
        "\n",
        "print(f'{litrosGasolina:.3f}') #Imprimindo a quantidade de gasolina necessária"
      ],
      "metadata": {
        "id": "NA-GSTH5HEg7"
      },
      "execution_count": null,
      "outputs": []
    }
  ]
}